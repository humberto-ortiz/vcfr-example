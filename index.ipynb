{
 "cells": [
  {
   "cell_type": "markdown",
   "metadata": {},
   "source": [
    "# Example Jupyter Notebook\n",
    "\n",
    "[Jupyter](http://jupyter.org/) is a system for scientific computing where you can mix documentation, code, and outputs (including plots).\n",
    "\n",
    "It is gaining popularity as a system for reproducible computing, and you can use it to quickly test different analysis options and share the analysis and results.\n",
    "\n",
    "We'll work through an example using R to analize a .vcf file, similar to the ones in our DC Genomics lesson.\n",
    "\n",
    "This example works through the [Quick Introduction](https://knausb.github.io/vcfR_documentation/quick_intro.html) for the vcfR bioconductor package. Open the Quick Introduction in another tab or window, so you can follow along."
   ]
  },
  {
   "cell_type": "code",
   "execution_count": null,
   "metadata": {},
   "outputs": [],
   "source": [
    "pkg <- \"pinfsc50\"\n",
    "vcf_file <- system.file(\"extdata\", \"pinf_sc50.vcf.gz\", package = pkg)\n",
    "dna_file <- system.file(\"extdata\", \"pinf_sc50.fasta\", package = pkg)\n",
    "gff_file <- system.file(\"extdata\", \"pinf_sc50.gff\", package = pkg)"
   ]
  },
  {
   "cell_type": "code",
   "execution_count": null,
   "metadata": {},
   "outputs": [],
   "source": [
    "library(vcfR)\n",
    "vcf <- read.vcfR( vcf_file, verbose = FALSE )"
   ]
  },
  {
   "cell_type": "code",
   "execution_count": null,
   "metadata": {},
   "outputs": [],
   "source": [
    "dna <- ape::read.dna(dna_file, format = \"fasta\")"
   ]
  },
  {
   "cell_type": "code",
   "execution_count": null,
   "metadata": {},
   "outputs": [],
   "source": [
    "gff <- read.table(gff_file, sep=\"\\t\", quote=\"\")"
   ]
  },
  {
   "cell_type": "code",
   "execution_count": null,
   "metadata": {},
   "outputs": [],
   "source": [
    "chrom <- create.chromR(name='Supercontig', vcf=vcf, seq=dna, ann=gff)"
   ]
  },
  {
   "cell_type": "code",
   "execution_count": null,
   "metadata": {},
   "outputs": [],
   "source": [
    "plot(chrom)"
   ]
  },
  {
   "cell_type": "code",
   "execution_count": null,
   "metadata": {},
   "outputs": [],
   "source": [
    "chrom <- proc.chromR(chrom, verbose=TRUE)"
   ]
  },
  {
   "cell_type": "code",
   "execution_count": null,
   "metadata": {},
   "outputs": [],
   "source": [
    "chromoqc(chrom)"
   ]
  },
  {
   "cell_type": "code",
   "execution_count": null,
   "metadata": {},
   "outputs": [],
   "source": [
    "chromoqc(chrom, xlim=c(5e+05, 6e+05))"
   ]
  },
  {
   "cell_type": "markdown",
   "metadata": {},
   "source": [
    "# Exercise\n",
    "\n",
    "The Quick Introduction masks out the low quality variants so they don't affect the analysis. Can you modify this Jupyter Notebook to include the code for masking the low-quality regions?"
   ]
  }
 ],
 "metadata": {
  "kernelspec": {
   "display_name": "R",
   "language": "R",
   "name": "ir"
  },
  "language_info": {
   "codemirror_mode": "r",
   "file_extension": ".r",
   "mimetype": "text/x-r-source",
   "name": "R",
   "pygments_lexer": "r",
   "version": "3.4.4"
  }
 },
 "nbformat": 4,
 "nbformat_minor": 2
}
